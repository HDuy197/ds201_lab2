{
  "nbformat": 4,
  "nbformat_minor": 0,
  "metadata": {
    "colab": {
      "provenance": [],
      "gpuType": "T4"
    },
    "kernelspec": {
      "name": "python3",
      "display_name": "Python 3"
    },
    "language_info": {
      "name": "python"
    },
    "accelerator": "GPU"
  },
  "cells": [
    {
      "cell_type": "markdown",
      "source": [
        "###Bài 4"
      ],
      "metadata": {
        "id": "eEu3d4WWeLHx"
      }
    },
    {
      "cell_type": "code",
      "source": [
        "!pip install transformers -q\n",
        "\n",
        "from google.colab import drive\n",
        "from PIL import ImageFile\n",
        "ImageFile.LOAD_TRUNCATED_IMAGES = True\n",
        "\n",
        "import os\n",
        "import torch\n",
        "import torch.nn as nn\n",
        "import torch.optim as optim\n",
        "from torch.utils.data import DataLoader\n",
        "from torchvision import datasets, transforms\n",
        "from sklearn.metrics import precision_score, recall_score, f1_score, accuracy_score\n",
        "import numpy as np\n",
        "\n",
        "from transformers import ResNetForImageClassification\n",
        "\n",
        "drive.mount('/content/drive')\n",
        "\n",
        "drive_zip_path = '/content/drive/My Drive/VinaFood21.zip'\n",
        "\n",
        "!mkdir -p ./data\n",
        "!unzip -q -o \"{drive_zip_path}\" -d ./data\n",
        "\n",
        "DEVICE = torch.device(\"cuda\" if torch.cuda.is_available() else \"cpu\")\n",
        "print(f\"Using device: {DEVICE}\")\n",
        "\n",
        "DATA_DIR = './data/VinaFood21'\n",
        "TRAIN_DIR = os.path.join(DATA_DIR, 'train')\n",
        "TEST_DIR = os.path.join(DATA_DIR, 'test')"
      ],
      "metadata": {
        "colab": {
          "base_uri": "https://localhost:8080/"
        },
        "id": "FSZf7912eOC5",
        "outputId": "00a256dd-4d4e-4f48-ab18-018174e89132"
      },
      "execution_count": 1,
      "outputs": [
        {
          "output_type": "stream",
          "name": "stdout",
          "text": [
            "Mounted at /content/drive\n",
            "Using device: cuda\n"
          ]
        }
      ]
    },
    {
      "cell_type": "code",
      "source": [
        "input_size = 224\n",
        "\n",
        "data_transforms = {\n",
        "    'train': transforms.Compose([\n",
        "        transforms.Lambda(lambda img: img.convert(\"RGB\")),\n",
        "        transforms.RandomResizedCrop(input_size),\n",
        "        transforms.RandomHorizontalFlip(),\n",
        "        transforms.ToTensor(),\n",
        "        transforms.Normalize([0.485, 0.456, 0.406], [0.229, 0.224, 0.225])\n",
        "    ]),\n",
        "    'test': transforms.Compose([\n",
        "        transforms.Lambda(lambda img: img.convert(\"RGB\")),\n",
        "        transforms.Resize(input_size + 32),\n",
        "        transforms.CenterCrop(input_size),\n",
        "        transforms.ToTensor(),\n",
        "        transforms.Normalize([0.485, 0.456, 0.406], [0.229, 0.224, 0.225])\n",
        "    ]),\n",
        "}\n",
        "\n",
        "image_datasets = {\n",
        "    'train': datasets.ImageFolder(TRAIN_DIR, data_transforms['train']),\n",
        "    'test': datasets.ImageFolder(TEST_DIR, data_transforms['test'])\n",
        "}\n",
        "\n",
        "dataloaders = {\n",
        "    'train': DataLoader(image_datasets['train'], batch_size=64, shuffle=True, num_workers=2),\n",
        "    'test': DataLoader(image_datasets['test'], batch_size=64, shuffle=False, num_workers=2)\n",
        "}\n",
        "\n",
        "dataset_sizes = {x: len(image_datasets[x]) for x in ['train', 'test']}\n",
        "class_names = image_datasets['train'].classes\n",
        "NUM_CLASSES = len(class_names)\n",
        "\n",
        "print(f\"Số lớp (NUM_CLASSES): {NUM_CLASSES}\")\n",
        "print(f\"Kích thước tập huấn luyện: {dataset_sizes['train']}\")\n",
        "print(f\"Kích thước tập test: {dataset_sizes['test']}\")"
      ],
      "metadata": {
        "colab": {
          "base_uri": "https://localhost:8080/"
        },
        "id": "GTrKJ-MCedKL",
        "outputId": "14dafb5b-99d5-4303-c564-87e21932db36"
      },
      "execution_count": 2,
      "outputs": [
        {
          "output_type": "stream",
          "name": "stdout",
          "text": [
            "Số lớp (NUM_CLASSES): 21\n",
            "Kích thước tập huấn luyện: 10044\n",
            "Kích thước tập test: 6682\n"
          ]
        }
      ]
    },
    {
      "cell_type": "code",
      "source": [
        "import warnings\n",
        "warnings.filterwarnings('ignore', message=\"The secret 'HF_TOKEN' does not exist in your Colab secrets.\")\n",
        "\n",
        "class PretrainedResnet(nn.Module):\n",
        "    def __init__(self, num_classes=21):\n",
        "        super().__init__()\n",
        "\n",
        "        basemodel = ResNetForImageClassification.from_pretrained(\n",
        "            \"microsoft/resnet-50\",\n",
        "            ignore_mismatched_sizes=True\n",
        "        )\n",
        "\n",
        "        self.resnet = basemodel.resnet\n",
        "\n",
        "        self.classifier = nn.Linear(in_features=2048, out_features=num_classes, bias=True)\n",
        "\n",
        "    def forward(self, images: torch.Tensor):\n",
        "        features = self.resnet(images).pooler_output\n",
        "        features = features.squeeze(-1).squeeze(-1)\n",
        "        logits = self.classifier(features)\n",
        "\n",
        "        return logits\n",
        "\n",
        "model = PretrainedResnet(num_classes=NUM_CLASSES).to(DEVICE)"
      ],
      "metadata": {
        "id": "9WvdWnyneiH4"
      },
      "execution_count": 7,
      "outputs": []
    },
    {
      "cell_type": "code",
      "source": [
        "warnings.filterwarnings(\"ignore\", category=UserWarning, module=\"PIL\")\n",
        "\n",
        "criterion = nn.CrossEntropyLoss()\n",
        "optimizer = optim.Adam(model.parameters(), lr=0.001)\n",
        "scheduler = optim.lr_scheduler.StepLR(optimizer, step_size=4, gamma=0.1)\n",
        "\n",
        "for epoch in range(10):\n",
        "\n",
        "    model.train()\n",
        "    running_loss = 0.0\n",
        "\n",
        "    for inputs, labels in dataloaders['train']:\n",
        "        inputs = inputs.to(DEVICE)\n",
        "        labels = labels.to(DEVICE)\n",
        "\n",
        "        optimizer.zero_grad()\n",
        "        outputs = model(inputs)\n",
        "        loss = criterion(outputs, labels)\n",
        "\n",
        "        loss.backward()\n",
        "        optimizer.step()\n",
        "\n",
        "        running_loss += loss.item() * inputs.size(0)\n",
        "\n",
        "    epoch_loss = running_loss / dataset_sizes['train']\n",
        "\n",
        "    print(f'Epoch [{epoch+1}/{10}], Loss: {epoch_loss:.4f}')\n",
        "\n",
        "    model.eval()\n",
        "    all_labels = []\n",
        "    all_preds = []\n",
        "\n",
        "    with torch.no_grad():\n",
        "        for inputs, labels in dataloaders['test']:\n",
        "            inputs = inputs.to(DEVICE)\n",
        "            labels = labels.to(DEVICE)\n",
        "\n",
        "            outputs = model(inputs)\n",
        "            _, preds = torch.max(outputs, 1)\n",
        "\n",
        "            all_labels.extend(labels.cpu().numpy())\n",
        "            all_preds.extend(preds.cpu().numpy())\n",
        "\n",
        "    scheduler.step()\n",
        "\n",
        "    print(f\"Learning Rate hiện tại: {scheduler.get_last_lr()[0]:.5f}\")\n",
        "\n",
        "accuracy = accuracy_score(all_labels, all_preds)\n",
        "precision = precision_score(all_labels, all_preds, average='macro', zero_division=0)\n",
        "recall = recall_score(all_labels, all_preds, average='macro', zero_division=0)\n",
        "f1 = f1_score(all_labels, all_preds, average='macro', zero_division=0)\n",
        "\n",
        "print(f\"Độ chính xác (Accuracy): {accuracy * 100:.2f}%\")\n",
        "print(f\"Precision (Macro): {precision:.4f}\")\n",
        "print(f\"Recall (Macro): {recall:.4f}\")\n",
        "print(f\"F1-score (Macro): {f1:.4f}\")"
      ],
      "metadata": {
        "colab": {
          "base_uri": "https://localhost:8080/"
        },
        "id": "736v4AYfeul5",
        "outputId": "c38a1371-9752-4088-9ea2-7aba8ddd7e3f"
      },
      "execution_count": 5,
      "outputs": [
        {
          "output_type": "stream",
          "name": "stdout",
          "text": [
            "Epoch [1/10], Loss: 0.6963\n",
            "Learning Rate hiện tại: 0.00100\n",
            "Epoch [2/10], Loss: 0.5439\n",
            "Learning Rate hiện tại: 0.00100\n",
            "Epoch [3/10], Loss: 0.4663\n",
            "Learning Rate hiện tại: 0.00100\n",
            "Epoch [4/10], Loss: 0.4228\n",
            "Learning Rate hiện tại: 0.00010\n",
            "Epoch [5/10], Loss: 0.3089\n",
            "Learning Rate hiện tại: 0.00010\n",
            "Epoch [6/10], Loss: 0.2574\n",
            "Learning Rate hiện tại: 0.00010\n",
            "Epoch [7/10], Loss: 0.2438\n",
            "Learning Rate hiện tại: 0.00010\n",
            "Epoch [8/10], Loss: 0.2342\n",
            "Learning Rate hiện tại: 0.00001\n",
            "Epoch [9/10], Loss: 0.2303\n",
            "Learning Rate hiện tại: 0.00001\n",
            "Epoch [10/10], Loss: 0.2195\n",
            "Learning Rate hiện tại: 0.00001\n",
            "Độ chính xác (Accuracy): 89.76%\n",
            "Precision (Macro): 0.8965\n",
            "Recall (Macro): 0.8999\n",
            "F1-score (Macro): 0.8973\n"
          ]
        }
      ]
    }
  ]
}