{
  "nbformat": 4,
  "nbformat_minor": 0,
  "metadata": {
    "colab": {
      "provenance": []
    },
    "kernelspec": {
      "name": "python3",
      "display_name": "Python 3"
    },
    "language_info": {
      "name": "python"
    }
  },
  "cells": [
    {
      "cell_type": "code",
      "execution_count": 1,
      "metadata": {
        "id": "i-CbPtStijRW"
      },
      "outputs": [],
      "source": [
        "!pip install scikit-learn --quiet\n",
        "\n",
        "import torch\n",
        "import torch.nn as nn\n",
        "import torch.optim as optim\n",
        "from torchvision import datasets, transforms\n",
        "from torch.utils.data import DataLoader\n",
        "from sklearn.metrics import precision_score, recall_score, f1_score\n",
        "import numpy as np\n",
        "\n",
        "device = torch.device(\"cuda\" if torch.cuda.is_available() else \"cpu\")\n",
        "\n",
        "def load_mnist(batch_size=64):\n",
        "    transform = transforms.Compose([\n",
        "        transforms.ToTensor(),\n",
        "        transforms.Normalize((0.1307,), (0.3081,))\n",
        "    ])\n",
        "\n",
        "    train_dataset = datasets.MNIST('./data', train=True, download=True, transform=transform)\n",
        "    test_dataset = datasets.MNIST('./data', train=False, download=True, transform=transform)\n",
        "\n",
        "    train_loader = DataLoader(train_dataset, batch_size=batch_size, shuffle=True)\n",
        "    test_loader = DataLoader(test_dataset, batch_size=batch_size, shuffle=False)\n",
        "    return train_loader, test_loader"
      ]
    },
    {
      "cell_type": "code",
      "source": [
        "class LeNet(nn.Module):\n",
        "    def __init__(self):\n",
        "        super(LeNet, self).__init__()\n",
        "\n",
        "        # Conv1: 28x28x1 -> 28x28x6 (kernel=5, padding=2)\n",
        "        self.conv1 = nn.Conv2d(in_channels=1, out_channels=6, kernel_size=5, padding=2)\n",
        "        self.act1 = nn.Sigmoid()\n",
        "        # Pool1: 28x28x6 -> 14x14x6 (AvgPool, kernel=2, stride=2)\n",
        "        self.pool1 = nn.AvgPool2d(kernel_size=2, stride=2)\n",
        "\n",
        "        # Conv2: 14x14x6 -> 10x10x16 (kernel=5, no pad)\n",
        "        self.conv2 = nn.Conv2d(in_channels=6, out_channels=16, kernel_size=5)\n",
        "        self.act2 = nn.Sigmoid()\n",
        "        # Pool2: 10x10x16 -> 5x5x16 (AvgPool, kernel=2, stride=2)\n",
        "        self.pool2 = nn.AvgPool2d(kernel_size=2, stride=2)\n",
        "\n",
        "        # Kích thước đầu vào lớp Fully Connected: 5*5*16 = 400\n",
        "        self.fc_input_size = 5 * 5 * 16\n",
        "\n",
        "        # Dense1: 400 -> 120\n",
        "        self.fc1 = nn.Linear(self.fc_input_size, 120)\n",
        "        self.act3 = nn.Sigmoid()\n",
        "\n",
        "        # Dense2: 120 -> 84\n",
        "        self.fc2 = nn.Linear(120, 84)\n",
        "        self.act4 = nn.Sigmoid()\n",
        "\n",
        "        # Dense3: 84 -> 10\n",
        "        self.fc3 = nn.Linear(84, 10)\n",
        "\n",
        "    def forward(self, x):\n",
        "        x = self.pool1(self.act1(self.conv1(x)))\n",
        "        x = self.pool2(self.act2(self.conv2(x)))\n",
        "\n",
        "        x = x.view(-1, self.fc_input_size)\n",
        "\n",
        "        x = self.act3(self.fc1(x))\n",
        "        x = self.act4(self.fc2(x))\n",
        "        x = self.fc3(x)\n",
        "        return x"
      ],
      "metadata": {
        "id": "5MFQ3sQMiyGh"
      },
      "execution_count": 2,
      "outputs": []
    },
    {
      "cell_type": "code",
      "source": [
        "def train_model(epochs=10, lr=0.001):\n",
        "    train_loader, _ = load_mnist(batch_size=64)\n",
        "\n",
        "    model = LeNet().to(device)\n",
        "    criterion = nn.CrossEntropyLoss()\n",
        "    optimizer = optim.Adam(model.parameters(), lr=lr)\n",
        "\n",
        "    for epoch in range(epochs):\n",
        "        model.train()\n",
        "        running_loss = 0.0\n",
        "\n",
        "        for images, labels in train_loader:\n",
        "            images, labels = images.to(device), labels.to(device)\n",
        "\n",
        "            optimizer.zero_grad()\n",
        "            outputs = model(images)\n",
        "            loss = criterion(outputs, labels)\n",
        "            loss.backward()\n",
        "            optimizer.step()\n",
        "\n",
        "            running_loss += loss.item()\n",
        "\n",
        "        print(f\"Epoch [{epoch+1}/{epochs}], Loss: {running_loss / len(train_loader):.4f}\")\n",
        "\n",
        "    return model"
      ],
      "metadata": {
        "id": "XsdBlTL6i2mn"
      },
      "execution_count": 3,
      "outputs": []
    },
    {
      "cell_type": "code",
      "source": [
        "def evaluate_model(model):\n",
        "    _, test_loader = load_mnist(batch_size=1000)\n",
        "\n",
        "    model.eval()\n",
        "\n",
        "    all_preds = []\n",
        "    all_labels = []\n",
        "    correct = 0\n",
        "    total = 0\n",
        "\n",
        "    with torch.no_grad():\n",
        "        for images, labels in test_loader:\n",
        "            images, labels = images.to(device), labels.to(device)\n",
        "\n",
        "            outputs = model(images)\n",
        "            _, predicted = torch.max(outputs.data, 1)\n",
        "\n",
        "            total += labels.size(0)\n",
        "            correct += (predicted == labels).sum().item()\n",
        "\n",
        "            all_preds.extend(predicted.cpu().numpy())\n",
        "            all_labels.extend(labels.cpu().numpy())\n",
        "\n",
        "    accuracy = 100 * correct / total\n",
        "    precision = precision_score(all_labels, all_preds, average='macro', zero_division=0)\n",
        "    recall = recall_score(all_labels, all_preds, average='macro', zero_division=0)\n",
        "    f1 = f1_score(all_labels, all_preds, average='macro', zero_division=0)\n",
        "\n",
        "    return accuracy, precision, recall, f1\n",
        "\n",
        "trained_model = train_model(epochs=10, lr=0.001)\n",
        "\n",
        "accuracy, precision, recall, f1 = evaluate_model(trained_model)\n",
        "\n",
        "print(f\"Độ chính xác (Accuracy): {accuracy:.2f}%\")\n",
        "print(f\"Precision (Macro): {precision:.4f}\")\n",
        "print(f\"Recall (Macro): {recall:.4f}\")\n",
        "print(f\"F1-score (Macro): {f1:.4f}\")"
      ],
      "metadata": {
        "colab": {
          "base_uri": "https://localhost:8080/"
        },
        "id": "LiVx3eJ_i4PC",
        "outputId": "3ca3f026-e3c8-4462-b299-df69dfa8b9cc"
      },
      "execution_count": 4,
      "outputs": [
        {
          "output_type": "stream",
          "name": "stderr",
          "text": [
            "100%|██████████| 9.91M/9.91M [00:00<00:00, 18.1MB/s]\n",
            "100%|██████████| 28.9k/28.9k [00:00<00:00, 523kB/s]\n",
            "100%|██████████| 1.65M/1.65M [00:00<00:00, 4.46MB/s]\n",
            "100%|██████████| 4.54k/4.54k [00:00<00:00, 7.81MB/s]\n"
          ]
        },
        {
          "output_type": "stream",
          "name": "stdout",
          "text": [
            "Epoch [1/10], Loss: 0.9342\n",
            "Epoch [2/10], Loss: 0.2417\n",
            "Epoch [3/10], Loss: 0.1550\n",
            "Epoch [4/10], Loss: 0.1158\n",
            "Epoch [5/10], Loss: 0.0909\n",
            "Epoch [6/10], Loss: 0.0780\n",
            "Epoch [7/10], Loss: 0.0657\n",
            "Epoch [8/10], Loss: 0.0594\n",
            "Epoch [9/10], Loss: 0.0535\n",
            "Epoch [10/10], Loss: 0.0487\n",
            "Độ chính xác (Accuracy): 98.48%\n",
            "Precision (Macro): 0.9846\n",
            "Recall (Macro): 0.9848\n",
            "F1-score (Macro): 0.9847\n"
          ]
        }
      ]
    }
  ]
}